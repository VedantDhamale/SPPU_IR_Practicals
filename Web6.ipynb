{
 "cells": [
  {
   "cell_type": "code",
   "execution_count": 2,
   "metadata": {},
   "outputs": [],
   "source": [
    "import requests\n",
    "from urllib.parse import urlparse, urljoin\n",
    "\n",
    "def is_allowed_by_robots_txt(url, user_agent='*'):\n",
    "    parsed_url = urlparse(url)\n",
    "    base_url = f\"{parsed_url.scheme}://{parsed_url.netloc}\"\n",
    "    \n",
    "    # Fetch the robots.txt file\n",
    "    robots_txt_url = urljoin(base_url, '/robots.txt')\n",
    "    try:\n",
    "        response = requests.get(robots_txt_url)\n",
    "        response.raise_for_status()  # Raise an error for bad responses (4xx, 5xx)\n",
    "    except requests.RequestException as e:\n",
    "        print(f\"Error fetching {robots_txt_url}: {e}\")\n",
    "        return False  # Assume disallowed if robots.txt cannot be fetched\n",
    "\n",
    "    # Parse the robots.txt content\n",
    "    rules = response.text.splitlines()\n",
    "    user_agent_section = False\n",
    "    disallowed_paths = []\n",
    "\n",
    "    for line in rules:\n",
    "        line = line.strip()\n",
    "        if line.startswith('User-agent:'):\n",
    "            # Check for the specific user agent section\n",
    "            user_agent_section = line.split(':', 1)[1].strip() == user_agent or user_agent == '*'\n",
    "        elif line.startswith('Disallow:') and user_agent_section:\n",
    "            # Collect disallowed paths\n",
    "            disallowed_path = line.split(':', 1)[1].strip()\n",
    "            disallowed_paths.append(disallowed_path)\n",
    "\n",
    "    # Check if the URL is disallowed\n",
    "    for path in disallowed_paths:\n",
    "        if path == '/':  # A disallow of '/' means disallow everything\n",
    "            return False\n",
    "        if parsed_url.path.startswith(path):\n",
    "            return False\n",
    "\n",
    "    return True  # If not disallowed, it is allowed\n",
    "\n",
    "# Example usage\n",
    "if __name__ == \"_main_\":\n",
    "    url = \"https://github.com/hp1004/CoinWatch--Crypto-Search-and-Trade/tree/main/build\"\n",
    "    if is_allowed_by_robots_txt(url):\n",
    "        print(f\"The URL '{url}' is allowed to be crawled.\")\n",
    "    else:\n",
    "        print(f\"The URL '{url}' is NOT allowed to be crawled.\")"
   ]
  },
  {
   "cell_type": "code",
   "execution_count": null,
   "metadata": {},
   "outputs": [],
   "source": []
  }
 ],
 "metadata": {
  "kernelspec": {
   "display_name": "ds_env",
   "language": "python",
   "name": "python3"
  },
  "language_info": {
   "codemirror_mode": {
    "name": "ipython",
    "version": 3
   },
   "file_extension": ".py",
   "mimetype": "text/x-python",
   "name": "python",
   "nbconvert_exporter": "python",
   "pygments_lexer": "ipython3",
   "version": "3.11.8"
  }
 },
 "nbformat": 4,
 "nbformat_minor": 2
}
