{
 "cells": [
  {
   "cell_type": "code",
   "execution_count": 1,
   "id": "7b6eb0f4-9719-4164-810a-ca7bf459d444",
   "metadata": {},
   "outputs": [
    {
     "name": "stdout",
     "output_type": "stream",
     "text": [
      "Requirement already satisfied: bs4 in c:\\users\\ganes\\appdata\\local\\programs\\python\\python312\\lib\\site-packages (0.0.2)\n",
      "Requirement already satisfied: beautifulsoup4 in c:\\users\\ganes\\appdata\\local\\programs\\python\\python312\\lib\\site-packages (from bs4) (4.12.2)\n",
      "Requirement already satisfied: soupsieve>1.2 in c:\\users\\ganes\\appdata\\local\\programs\\python\\python312\\lib\\site-packages (from beautifulsoup4->bs4) (2.5)\n"
     ]
    }
   ],
   "source": [
    "!pip install bs4"
   ]
  },
  {
   "cell_type": "code",
   "execution_count": 2,
   "id": "af42ff0d-efe5-46c4-b9b7-0628521c4ee4",
   "metadata": {},
   "outputs": [
    {
     "name": "stdout",
     "output_type": "stream",
     "text": [
      "Requirement already satisfied: requests in c:\\users\\ganes\\appdata\\local\\programs\\python\\python312\\lib\\site-packages (2.31.0)\n",
      "Requirement already satisfied: charset-normalizer<4,>=2 in c:\\users\\ganes\\appdata\\local\\programs\\python\\python312\\lib\\site-packages (from requests) (3.3.1)\n",
      "Requirement already satisfied: idna<4,>=2.5 in c:\\users\\ganes\\appdata\\local\\programs\\python\\python312\\lib\\site-packages (from requests) (2.10)\n",
      "Requirement already satisfied: urllib3<3,>=1.21.1 in c:\\users\\ganes\\appdata\\local\\programs\\python\\python312\\lib\\site-packages (from requests) (2.0.7)\n",
      "Requirement already satisfied: certifi>=2017.4.17 in c:\\users\\ganes\\appdata\\local\\programs\\python\\python312\\lib\\site-packages (from requests) (2023.7.22)\n"
     ]
    }
   ],
   "source": [
    "!pip install requests"
   ]
  },
  {
   "cell_type": "code",
   "execution_count": 3,
   "id": "8de77767-66a2-420a-bd68-2a16b19e38fb",
   "metadata": {},
   "outputs": [],
   "source": [
    "from bs4 import BeautifulSoup\n",
    "import requests\n",
    "import pandas as pd\n"
   ]
  },
  {
   "cell_type": "code",
   "execution_count": 4,
   "id": "4fed7b6e-8bf4-4a90-b5be-7fc1dbba8be1",
   "metadata": {},
   "outputs": [],
   "source": [
    "def crawl(url):\n",
    "    headers = {\n",
    "        \"user-agent\":\"Mozilla/5.0 (Windows NT 10.0; Win64; x64) AppleWebKit/537.36 (KHTML, like Gecko) Chrome/130.0.0.0 Safari/537.36\"}\n",
    "    response =requests.get(url,headers=headers)\n",
    "    soup = BeautifulSoup(response.text,'html.parser')\n",
    "\n",
    "    products = []\n",
    "    price = []\n",
    "    ratings = []\n",
    "\n",
    "    p_name = soup.find_all('span',class_=\"a-size-medium a-color-base a-text-normal\")\n",
    "    p_price = soup.find_all('span',class_=\"a-price-whole\")\n",
    "    p_rating = soup.find_all('span',class_=\"a-size-base s-underline-text\")\n",
    "\n",
    "    for i in p_name:\n",
    "        products.append(i.text)\n",
    "\n",
    "    for i in p_price:\n",
    "        price.append(i.text)\n",
    "\n",
    "    for i in p_rating:\n",
    "        ratings.append(i.text)\n",
    "\n",
    "    df = pd.DataFrame({'Product':products,'Price':price,'Ratings':ratings})\n",
    "    return df"
   ]
  },
  {
   "cell_type": "code",
   "execution_count": 5,
   "id": "8779028b-c79b-47dd-a5a8-ad1f68f386b5",
   "metadata": {},
   "outputs": [],
   "source": [
    "df = crawl('https://www.amazon.in/s?k=phones+under+15000&crid=2OMU10J19V04S&sprefix=phones+under+15000%2Caps%2C751&ref=nb_sb_noss_')"
   ]
  },
  {
   "cell_type": "code",
   "execution_count": 6,
   "id": "64ba508a-cda4-4196-b54e-151f63cc9c3f",
   "metadata": {},
   "outputs": [
    {
     "data": {
      "text/html": [
       "<div>\n",
       "<style scoped>\n",
       "    .dataframe tbody tr th:only-of-type {\n",
       "        vertical-align: middle;\n",
       "    }\n",
       "\n",
       "    .dataframe tbody tr th {\n",
       "        vertical-align: top;\n",
       "    }\n",
       "\n",
       "    .dataframe thead th {\n",
       "        text-align: right;\n",
       "    }\n",
       "</style>\n",
       "<table border=\"1\" class=\"dataframe\">\n",
       "  <thead>\n",
       "    <tr style=\"text-align: right;\">\n",
       "      <th></th>\n",
       "      <th>Product</th>\n",
       "      <th>Price</th>\n",
       "      <th>Ratings</th>\n",
       "    </tr>\n",
       "  </thead>\n",
       "  <tbody>\n",
       "    <tr>\n",
       "      <th>0</th>\n",
       "      <td>Samsung Galaxy M35 5G (Thunder Grey,6GB RAM,12...</td>\n",
       "      <td>18,999</td>\n",
       "      <td>4,572</td>\n",
       "    </tr>\n",
       "    <tr>\n",
       "      <th>1</th>\n",
       "      <td>Samsung Galaxy M15 5G Prime Edition (Stone Gre...</td>\n",
       "      <td>14,999</td>\n",
       "      <td>608</td>\n",
       "    </tr>\n",
       "    <tr>\n",
       "      <th>2</th>\n",
       "      <td>realme NARZO 70x 5G (Ice Blue, 6GB RAM,128GB S...</td>\n",
       "      <td>12,998</td>\n",
       "      <td>3,389</td>\n",
       "    </tr>\n",
       "    <tr>\n",
       "      <th>3</th>\n",
       "      <td>Samsung Galaxy M15 5G Prime Edition (Celestial...</td>\n",
       "      <td>14,999</td>\n",
       "      <td>608</td>\n",
       "    </tr>\n",
       "    <tr>\n",
       "      <th>4</th>\n",
       "      <td>realme NARZO N65 5G (Deep Green 8GB RAM, 128GB...</td>\n",
       "      <td>13,498</td>\n",
       "      <td>1,494</td>\n",
       "    </tr>\n",
       "    <tr>\n",
       "      <th>5</th>\n",
       "      <td>realme NARZO 70x 5G (Ice Blue, 8GB RAM,128GB S...</td>\n",
       "      <td>13,999</td>\n",
       "      <td>3,389</td>\n",
       "    </tr>\n",
       "    <tr>\n",
       "      <th>6</th>\n",
       "      <td>iQOO Z9x 5G (Storm Grey, 6GB RAM, 128GB Storag...</td>\n",
       "      <td>13,999</td>\n",
       "      <td>4,439</td>\n",
       "    </tr>\n",
       "    <tr>\n",
       "      <th>7</th>\n",
       "      <td>realme NARZO N65 5G (Deep Green 6GB RAM, 128GB...</td>\n",
       "      <td>12,498</td>\n",
       "      <td>1,494</td>\n",
       "    </tr>\n",
       "    <tr>\n",
       "      <th>8</th>\n",
       "      <td>Redmi 13C 5G (Starlight Black, 4GB RAM, 128GB ...</td>\n",
       "      <td>9,199</td>\n",
       "      <td>9,994</td>\n",
       "    </tr>\n",
       "    <tr>\n",
       "      <th>9</th>\n",
       "      <td>Nokia G42 5G | Snapdragon® 480+ 5G | 50MP Trip...</td>\n",
       "      <td>11,499</td>\n",
       "      <td>5,428</td>\n",
       "    </tr>\n",
       "    <tr>\n",
       "      <th>10</th>\n",
       "      <td>Redmi 13 5G, Orchid Pink, 6GB+128GB | India De...</td>\n",
       "      <td>12,999</td>\n",
       "      <td>2,172</td>\n",
       "    </tr>\n",
       "    <tr>\n",
       "      <th>11</th>\n",
       "      <td>Samsung Galaxy S23 Ultra 5G AI Smartphone (Gre...</td>\n",
       "      <td>79,999</td>\n",
       "      <td>2,449</td>\n",
       "    </tr>\n",
       "    <tr>\n",
       "      <th>12</th>\n",
       "      <td>Samsung Galaxy A14 5G (Black, 4GB, 128GB Stora...</td>\n",
       "      <td>12,243</td>\n",
       "      <td>2,321</td>\n",
       "    </tr>\n",
       "    <tr>\n",
       "      <th>13</th>\n",
       "      <td>Redmi 13 5G, Orchid Pink, 6GB+128GB | India De...</td>\n",
       "      <td>12,999</td>\n",
       "      <td>2,172</td>\n",
       "    </tr>\n",
       "    <tr>\n",
       "      <th>14</th>\n",
       "      <td>Motorola G45 5G (Brilliant Blue, 8GB RAM, 128G...</td>\n",
       "      <td>14,399</td>\n",
       "      <td>34</td>\n",
       "    </tr>\n",
       "    <tr>\n",
       "      <th>15</th>\n",
       "      <td>vivo Y28s 5G (Vintage Red, 6GB RAM, 128GB Stor...</td>\n",
       "      <td>14,999</td>\n",
       "      <td>74</td>\n",
       "    </tr>\n",
       "    <tr>\n",
       "      <th>16</th>\n",
       "      <td>Motorola G45 5G (Brilliant Green, 8GB RAM, 128...</td>\n",
       "      <td>13,874</td>\n",
       "      <td>38</td>\n",
       "    </tr>\n",
       "    <tr>\n",
       "      <th>17</th>\n",
       "      <td>iQOO Z9 Lite 5G (Aqua Flow, 6GB RAM, 128GB Sto...</td>\n",
       "      <td>11,498</td>\n",
       "      <td>1,953</td>\n",
       "    </tr>\n",
       "    <tr>\n",
       "      <th>18</th>\n",
       "      <td>realme 12X 5G (Woodland Green, 8GB RAM, 128GB ...</td>\n",
       "      <td>12,661</td>\n",
       "      <td>93</td>\n",
       "    </tr>\n",
       "    <tr>\n",
       "      <th>19</th>\n",
       "      <td>Samsung Galaxy M15 5G Prime Edition (Blue Topa...</td>\n",
       "      <td>14,999</td>\n",
       "      <td>608</td>\n",
       "    </tr>\n",
       "    <tr>\n",
       "      <th>20</th>\n",
       "      <td>IKALL K333 Touch &amp; Type 4G Phone with 2GB RAM,...</td>\n",
       "      <td>2,875</td>\n",
       "      <td>234</td>\n",
       "    </tr>\n",
       "  </tbody>\n",
       "</table>\n",
       "</div>"
      ],
      "text/plain": [
       "                                              Product   Price Ratings\n",
       "0   Samsung Galaxy M35 5G (Thunder Grey,6GB RAM,12...  18,999   4,572\n",
       "1   Samsung Galaxy M15 5G Prime Edition (Stone Gre...  14,999     608\n",
       "2   realme NARZO 70x 5G (Ice Blue, 6GB RAM,128GB S...  12,998   3,389\n",
       "3   Samsung Galaxy M15 5G Prime Edition (Celestial...  14,999     608\n",
       "4   realme NARZO N65 5G (Deep Green 8GB RAM, 128GB...  13,498   1,494\n",
       "5   realme NARZO 70x 5G (Ice Blue, 8GB RAM,128GB S...  13,999   3,389\n",
       "6   iQOO Z9x 5G (Storm Grey, 6GB RAM, 128GB Storag...  13,999   4,439\n",
       "7   realme NARZO N65 5G (Deep Green 6GB RAM, 128GB...  12,498   1,494\n",
       "8   Redmi 13C 5G (Starlight Black, 4GB RAM, 128GB ...   9,199   9,994\n",
       "9   Nokia G42 5G | Snapdragon® 480+ 5G | 50MP Trip...  11,499   5,428\n",
       "10  Redmi 13 5G, Orchid Pink, 6GB+128GB | India De...  12,999   2,172\n",
       "11  Samsung Galaxy S23 Ultra 5G AI Smartphone (Gre...  79,999   2,449\n",
       "12  Samsung Galaxy A14 5G (Black, 4GB, 128GB Stora...  12,243   2,321\n",
       "13  Redmi 13 5G, Orchid Pink, 6GB+128GB | India De...  12,999   2,172\n",
       "14  Motorola G45 5G (Brilliant Blue, 8GB RAM, 128G...  14,399      34\n",
       "15  vivo Y28s 5G (Vintage Red, 6GB RAM, 128GB Stor...  14,999      74\n",
       "16  Motorola G45 5G (Brilliant Green, 8GB RAM, 128...  13,874      38\n",
       "17  iQOO Z9 Lite 5G (Aqua Flow, 6GB RAM, 128GB Sto...  11,498   1,953\n",
       "18  realme 12X 5G (Woodland Green, 8GB RAM, 128GB ...  12,661      93\n",
       "19  Samsung Galaxy M15 5G Prime Edition (Blue Topa...  14,999     608\n",
       "20  IKALL K333 Touch & Type 4G Phone with 2GB RAM,...   2,875     234"
      ]
     },
     "execution_count": 6,
     "metadata": {},
     "output_type": "execute_result"
    }
   ],
   "source": [
    "df"
   ]
  },
  {
   "cell_type": "code",
   "execution_count": 7,
   "id": "697e22bc-6ab5-41b1-8383-53b43b45e72e",
   "metadata": {},
   "outputs": [],
   "source": [
    "df.to_csv('amazon.csv')"
   ]
  },
  {
   "cell_type": "code",
   "execution_count": 8,
   "id": "e8754734-3aa0-494b-802e-594624a96dc0",
   "metadata": {},
   "outputs": [],
   "source": [
    "def image_crawler(url):\n",
    "    head = {\n",
    "        \"user-agent\":\"Mozilla/5.0 (Windows NT 10.0; Win64; x64) AppleWebKit/537.36 (KHTML, like Gecko) Chrome/130.0.0.0 Safari/537.36\"}\n",
    "    response = requests.get(url,headers = head)\n",
    "    soup = BeautifulSoup(response.text,'html.parser')\n",
    "\n",
    "    image = []\n",
    "    im_data = soup.find_all('img',class_=\"s-image\")\n",
    "\n",
    "    for i in im_data:\n",
    "        image.append(i.get('src'))\n",
    "    return image"
   ]
  },
  {
   "cell_type": "code",
   "execution_count": 9,
   "id": "ccf93e34-5aaf-49ff-8b3b-f2f69bdc8111",
   "metadata": {},
   "outputs": [],
   "source": [
    "img = image_crawler('https://www.amazon.in/s?k=phones+under+15000&crid=2OMU10J19V04S&sprefix=phones+under+15000%2Caps%2C751&ref=nb_sb_noss_')"
   ]
  },
  {
   "cell_type": "code",
   "execution_count": 10,
   "id": "3c8e6ee2-fe03-4573-95b0-233fe9d13a89",
   "metadata": {},
   "outputs": [
    {
     "data": {
      "text/plain": [
       "['https://m.media-amazon.com/images/I/8189mzscM6L._AC_UY218_.jpg',\n",
       " 'https://m.media-amazon.com/images/I/81oKOk65TgL._AC_UY218_.jpg',\n",
       " 'https://m.media-amazon.com/images/I/81LJaRu0cZL._AC_UY218_.jpg',\n",
       " 'https://m.media-amazon.com/images/I/71w-mmKgIfL._AC_UY218_.jpg',\n",
       " 'https://m.media-amazon.com/images/I/717sEAdy02L._AC_UY218_.jpg',\n",
       " 'https://m.media-amazon.com/images/I/61sY8BGOyEL._AC_UY218_.jpg',\n",
       " 'https://m.media-amazon.com/images/I/71oIjjNm+nL._AC_UY218_.jpg',\n",
       " 'https://m.media-amazon.com/images/I/71w-mmKgIfL._AC_UY218_.jpg',\n",
       " 'https://m.media-amazon.com/images/I/717sEAdy02L._AC_UY218_.jpg',\n",
       " 'https://m.media-amazon.com/images/I/81nMsYgIHdL._AC_UY218_.jpg',\n",
       " 'https://m.media-amazon.com/images/I/81Q9jpYOFdL._AC_UY218_.jpg',\n",
       " 'https://m.media-amazon.com/images/I/71lD7eGdW-L._AC_UY218_.jpg',\n",
       " 'https://m.media-amazon.com/images/I/818VqDSKpCL._AC_UY218_.jpg',\n",
       " 'https://m.media-amazon.com/images/I/81NRD3LJJEL._AC_UY218_.jpg',\n",
       " 'https://m.media-amazon.com/images/I/81dl4dQY3BL._AC_UY218_.jpg',\n",
       " 'https://m.media-amazon.com/images/I/81nbqAPGLKL._AC_UY218_.jpg',\n",
       " 'https://m.media-amazon.com/images/I/81Q9jpYOFdL._AC_UY218_.jpg',\n",
       " 'https://m.media-amazon.com/images/I/718RrecpkVL._AC_UY218_.jpg',\n",
       " 'https://m.media-amazon.com/images/I/71EN6N9kUEL._AC_UY218_.jpg',\n",
       " 'https://m.media-amazon.com/images/I/717yx8s4prL._AC_UY218_.jpg',\n",
       " 'https://m.media-amazon.com/images/I/51ePjiVREFL._AC_UY218_.jpg']"
      ]
     },
     "execution_count": 10,
     "metadata": {},
     "output_type": "execute_result"
    }
   ],
   "source": [
    "img"
   ]
  },
  {
   "cell_type": "code",
   "execution_count": 11,
   "id": "c727eae3-d6dd-4e9d-b205-94eeca062075",
   "metadata": {},
   "outputs": [],
   "source": [
    "import os"
   ]
  },
  {
   "cell_type": "code",
   "execution_count": 16,
   "id": "e3df793b-b6a9-4dec-88be-9ee428daf4c5",
   "metadata": {},
   "outputs": [],
   "source": [
    "os.makedirs('amazon',exist_ok=True)\n"
   ]
  },
  {
   "cell_type": "code",
   "execution_count": 15,
   "id": "a6daa8c3-e683-4552-989b-b84d1de61b18",
   "metadata": {},
   "outputs": [],
   "source": [
    "i=0\n",
    "for url in img:\n",
    "    try:\n",
    "        resp=requests.get(url)\n",
    "        with open(f\"amazon/{i}.jpg\", 'wb') as f:\n",
    "            f.write(resp.content)\n",
    "        i+=1\n",
    "    except:\n",
    "        pass\n",
    "    "
   ]
  },
  {
   "cell_type": "code",
   "execution_count": null,
   "id": "2d9095f0-088b-4755-b84f-9fe69a657ac3",
   "metadata": {},
   "outputs": [],
   "source": []
  }
 ],
 "metadata": {
  "kernelspec": {
   "display_name": "Python 3 (ipykernel)",
   "language": "python",
   "name": "python3"
  },
  "language_info": {
   "codemirror_mode": {
    "name": "ipython",
    "version": 3
   },
   "file_extension": ".py",
   "mimetype": "text/x-python",
   "name": "python",
   "nbconvert_exporter": "python",
   "pygments_lexer": "ipython3",
   "version": "3.12.0"
  }
 },
 "nbformat": 4,
 "nbformat_minor": 5
}
