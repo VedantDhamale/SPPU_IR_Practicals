{
 "cells": [
  {
   "cell_type": "code",
   "execution_count": 1,
   "metadata": {},
   "outputs": [],
   "source": [
    "import requests\n",
    "from bs4 import BeautifulSoup\n",
    "import pandas as pd"
   ]
  },
  {
   "cell_type": "code",
   "execution_count": 1,
   "metadata": {},
   "outputs": [],
   "source": [
    "import numpy as np\n",
    "\n",
    "def calculate_pagerank(adjacency_matrix, max_iterations=100, tolerance=1e-6, dumping_factor=0.85):\n",
    "    # Number of nodes in the graph\n",
    "    num_nodes = adjacency_matrix.shape[0]\n",
    "    \n",
    "    # Create a transition matrix\n",
    "    transition_matrix = np.zeros((num_nodes, num_nodes))\n",
    "    \n",
    "    # Normalize the adjacency matrix to create the transition matrix\n",
    "    for i in range(num_nodes):\n",
    "        row_sum = np.sum(adjacency_matrix[i])\n",
    "        if row_sum > 0:\n",
    "            transition_matrix[i] = adjacency_matrix[i] / row_sum\n",
    "        else:\n",
    "            # Handle dangling nodes (no outbound links)\n",
    "            transition_matrix[i] = np.ones(num_nodes) / num_nodes\n",
    "    \n",
    "    # Initialize PageRank values\n",
    "    pagerank = np.ones(num_nodes) / num_nodes\n",
    "    \n",
    "    # Iteratively compute PageRank\n",
    "    for iteration in range(max_iterations):\n",
    "        new_pagerank = (1 - dumping_factor) / num_nodes + dumping_factor * transition_matrix.T @ pagerank\n",
    "        \n",
    "        # Check for convergence\n",
    "        if np.linalg.norm(new_pagerank - pagerank, 1) < tolerance:\n",
    "            print(f\"Converged after {iteration + 1} iterations.\")\n",
    "            break\n",
    "            \n",
    "        pagerank = new_pagerank\n",
    "        \n",
    "    return pagerank\n",
    "\n",
    "# Example usage\n",
    "if __name__ == \"_main_\":\n",
    "    # Example adjacency matrix (4 nodes)\n",
    "    adjacency_matrix = np.array([[0, 1, 1, 0],\n",
    "                                  [0, 0, 1, 1],\n",
    "                                  [1, 0, 0, 0],\n",
    "                                  [0, 0, 1, 0]])\n",
    "    \n",
    "    pagerank_values = calculate_pagerank(adjacency_matrix)\n",
    "    print(\"PageRank values:\", pagerank_values)"
   ]
  },
  {
   "cell_type": "code",
   "execution_count": null,
   "metadata": {},
   "outputs": [],
   "source": []
  }
 ],
 "metadata": {
  "kernelspec": {
   "display_name": "navigator_env",
   "language": "python",
   "name": "python3"
  },
  "language_info": {
   "codemirror_mode": {
    "name": "ipython",
    "version": 3
   },
   "file_extension": ".py",
   "mimetype": "text/x-python",
   "name": "python",
   "nbconvert_exporter": "python",
   "pygments_lexer": "ipython3",
   "version": "3.11.8"
  }
 },
 "nbformat": 4,
 "nbformat_minor": 2
}
