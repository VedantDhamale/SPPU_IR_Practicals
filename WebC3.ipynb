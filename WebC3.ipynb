{
 "cells": [
  {
   "cell_type": "code",
   "execution_count": 94,
   "id": "31877bee",
   "metadata": {},
   "outputs": [],
   "source": [
    "from bs4 import BeautifulSoup\n",
    "import requests\n",
    "import json"
   ]
  },
  {
   "cell_type": "markdown",
   "id": "68e5ee86",
   "metadata": {},
   "source": [
    "# Get page content from URL"
   ]
  },
  {
   "cell_type": "code",
   "execution_count": 95,
   "id": "4b7c61ed",
   "metadata": {},
   "outputs": [],
   "source": [
    "url= \"https://www.thehindu.com/sci-tech/science/hidden-craters-suggest-earth-once-had-a-saturn-like-ring/article68651123.ece\""
   ]
  },
  {
   "cell_type": "code",
   "execution_count": 96,
   "id": "1d7003e2",
   "metadata": {},
   "outputs": [],
   "source": [
    "page = requests.get(url)\n"
   ]
  },
  {
   "cell_type": "code",
   "execution_count": 97,
   "id": "4cf938c6",
   "metadata": {},
   "outputs": [
    {
     "data": {
      "text/plain": [
       "<Response [200]>"
      ]
     },
     "execution_count": 97,
     "metadata": {},
     "output_type": "execute_result"
    }
   ],
   "source": [
    "page"
   ]
  },
  {
   "cell_type": "code",
   "execution_count": 98,
   "id": "a8cd30f5",
   "metadata": {},
   "outputs": [],
   "source": [
    "\n",
    "soup = BeautifulSoup(page.content , 'html.parser')\n"
   ]
  },
  {
   "cell_type": "code",
   "execution_count": 99,
   "id": "8b9efd7c",
   "metadata": {},
   "outputs": [
    {
     "data": {
      "text/plain": [
       "<source media=\"(min-width: 1600px)\" sizes=\"960px\" srcset=\"https://th-i.thgim.com/public/sci-tech/science/wufna6/article68651140.ece/alternates/LANDSCAPE_1200/file-20240915-16-utrbx2.jpg\"/>"
      ]
     },
     "execution_count": 99,
     "metadata": {},
     "output_type": "execute_result"
    }
   ],
   "source": [
    "img_tag = soup.find('source')\n",
    "img_tag"
   ]
  },
  {
   "cell_type": "code",
   "execution_count": 100,
   "id": "75949853",
   "metadata": {},
   "outputs": [
    {
     "data": {
      "text/plain": [
       "'https://th-i.thgim.com/public/sci-tech/science/wufna6/article68651140.ece/alternates/LANDSCAPE_1200/file-20240915-16-utrbx2.jpg'"
      ]
     },
     "execution_count": 100,
     "metadata": {},
     "output_type": "execute_result"
    }
   ],
   "source": [
    "img_tag['srcset']"
   ]
  },
  {
   "cell_type": "code",
   "execution_count": 101,
   "id": "3891e534",
   "metadata": {},
   "outputs": [],
   "source": [
    "img_url = img_tag['srcset']"
   ]
  },
  {
   "cell_type": "markdown",
   "id": "8b21caa6",
   "metadata": {},
   "source": [
    "# Download the image from URL"
   ]
  },
  {
   "cell_type": "code",
   "execution_count": 102,
   "id": "f891a3a7",
   "metadata": {},
   "outputs": [],
   "source": [
    "image = requests.get(img_url)"
   ]
  },
  {
   "cell_type": "code",
   "execution_count": 103,
   "id": "5c8aad0a",
   "metadata": {},
   "outputs": [],
   "source": [
    "with open('image.jpg' , 'wb') as file:\n",
    "    for chunk in image.iter_content(chunk_size=1024):\n",
    "        file.write(chunk)"
   ]
  },
  {
   "cell_type": "code",
   "execution_count": null,
   "id": "71fd1b0a",
   "metadata": {},
   "outputs": [],
   "source": []
  }
 ],
 "metadata": {
  "kernelspec": {
   "display_name": "Python 3 (ipykernel)",
   "language": "python",
   "name": "python3"
  },
  "language_info": {
   "codemirror_mode": {
    "name": "ipython",
    "version": 3
   },
   "file_extension": ".py",
   "mimetype": "text/x-python",
   "name": "python",
   "nbconvert_exporter": "python",
   "pygments_lexer": "ipython3",
   "version": "3.8.19"
  }
 },
 "nbformat": 4,
 "nbformat_minor": 5
}
